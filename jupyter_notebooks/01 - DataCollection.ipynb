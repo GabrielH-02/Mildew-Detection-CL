{
  "cells": [
    {
      "cell_type": "markdown",
      "metadata": {
        "id": "0aStgWSO0E0E"
      },
      "source": [
        "# **Data Collection**: Mildew Detection Project"
      ]
    },
    {
      "cell_type": "markdown",
      "metadata": {},
      "source": [
        "---"
      ]
    },
    {
      "cell_type": "markdown",
      "metadata": {
        "id": "1eLEkw5O0ECa"
      },
      "source": [
        "## Objectives\n",
        "\n",
        "* Fetch dataset of Cherry Leaf Images from Kaggle ([Link](https://www.kaggle.com/datasets/codeinstitute/cherry-leaves)) to save as raw data and prepare for further processes.\n",
        "\n",
        "* Clean data, to check the data as well as remove all non-image files for the data.\n",
        "\n",
        "* Find the average image size of the cherry leaf data. \n",
        "\n",
        "* Split the dataset into subsets of Train, Validation, and Test, align with the suggested subset ratio. \n",
        "\n",
        "* Resize the dataset images\n",
        "\n",
        "## Inputs\n",
        "\n",
        "* Kaggle JSON file - authentication token\n",
        "\n",
        "## Outputs\n",
        "\n",
        "* Generate Dataset; **inputs/cherry_leaves_dataset/cherry-leaves**\n",
        "* Within this Dataset have the data resized and within respected subsets of Train, Validation, and Test in alignment with the ratio.\n",
        "* Average Image shape embeddings pickle file in outputs.\n",
        "\n",
        "## Additional Comments\n",
        "\n",
        "* No comments\n",
        "\n"
      ]
    },
    {
      "cell_type": "markdown",
      "metadata": {
        "id": "9uWZXH9LwoQg"
      },
      "source": [
        "---"
      ]
    },
    {
      "cell_type": "markdown",
      "metadata": {},
      "source": [
        "## 1.0 - Import packages"
      ]
    },
    {
      "cell_type": "markdown",
      "metadata": {},
      "source": [
        "---"
      ]
    },
    {
      "cell_type": "code",
      "execution_count": 1,
      "metadata": {},
      "outputs": [
        {
          "name": "stdout",
          "output_type": "stream",
          "text": [
            "Requirement already satisfied: numpy==1.19.2 in /workspace/.pip-modules/lib/python3.8/site-packages (from -r /workspace/Mildew-Detection-CL/requirements.txt (line 1)) (1.19.2)\n",
            "Requirement already satisfied: pandas==1.1.2 in /workspace/.pip-modules/lib/python3.8/site-packages (from -r /workspace/Mildew-Detection-CL/requirements.txt (line 2)) (1.1.2)\n",
            "Requirement already satisfied: matplotlib==3.3.1 in /workspace/.pip-modules/lib/python3.8/site-packages (from -r /workspace/Mildew-Detection-CL/requirements.txt (line 3)) (3.3.1)\n",
            "Requirement already satisfied: seaborn==0.11.0 in /workspace/.pip-modules/lib/python3.8/site-packages (from -r /workspace/Mildew-Detection-CL/requirements.txt (line 4)) (0.11.0)\n",
            "Requirement already satisfied: plotly==4.12.0 in /workspace/.pip-modules/lib/python3.8/site-packages (from -r /workspace/Mildew-Detection-CL/requirements.txt (line 5)) (4.12.0)\n",
            "Requirement already satisfied: streamlit==0.85.0 in /workspace/.pip-modules/lib/python3.8/site-packages (from -r /workspace/Mildew-Detection-CL/requirements.txt (line 7)) (0.85.0)\n",
            "Requirement already satisfied: scikit-learn==0.24.2 in /workspace/.pip-modules/lib/python3.8/site-packages (from -r /workspace/Mildew-Detection-CL/requirements.txt (line 9)) (0.24.2)\n",
            "Requirement already satisfied: tensorflow-cpu==2.6.0 in /workspace/.pip-modules/lib/python3.8/site-packages (from -r /workspace/Mildew-Detection-CL/requirements.txt (line 10)) (2.6.0)\n",
            "Requirement already satisfied: keras==2.6.0 in /workspace/.pip-modules/lib/python3.8/site-packages (from -r /workspace/Mildew-Detection-CL/requirements.txt (line 11)) (2.6.0)\n",
            "Requirement already satisfied: protobuf==3.20 in /workspace/.pip-modules/lib/python3.8/site-packages (from -r /workspace/Mildew-Detection-CL/requirements.txt (line 12)) (3.20.0)\n",
            "Requirement already satisfied: altair<5 in /workspace/.pip-modules/lib/python3.8/site-packages (from -r /workspace/Mildew-Detection-CL/requirements.txt (line 13)) (4.2.2)\n",
            "Requirement already satisfied: python-dateutil>=2.7.3 in /home/gitpod/.pyenv/versions/3.8.18/lib/python3.8/site-packages (from pandas==1.1.2->-r /workspace/Mildew-Detection-CL/requirements.txt (line 2)) (2.9.0.post0)\n",
            "Requirement already satisfied: pytz>=2017.2 in /home/gitpod/.pyenv/versions/3.8.18/lib/python3.8/site-packages (from pandas==1.1.2->-r /workspace/Mildew-Detection-CL/requirements.txt (line 2)) (2024.1)\n",
            "Requirement already satisfied: certifi>=2020.06.20 in /home/gitpod/.pyenv/versions/3.8.18/lib/python3.8/site-packages (from matplotlib==3.3.1->-r /workspace/Mildew-Detection-CL/requirements.txt (line 3)) (2024.7.4)\n",
            "Requirement already satisfied: cycler>=0.10 in /workspace/.pip-modules/lib/python3.8/site-packages (from matplotlib==3.3.1->-r /workspace/Mildew-Detection-CL/requirements.txt (line 3)) (0.12.1)\n",
            "Requirement already satisfied: kiwisolver>=1.0.1 in /workspace/.pip-modules/lib/python3.8/site-packages (from matplotlib==3.3.1->-r /workspace/Mildew-Detection-CL/requirements.txt (line 3)) (1.4.5)\n",
            "Requirement already satisfied: pillow>=6.2.0 in /workspace/.pip-modules/lib/python3.8/site-packages (from matplotlib==3.3.1->-r /workspace/Mildew-Detection-CL/requirements.txt (line 3)) (10.4.0)\n",
            "Requirement already satisfied: pyparsing!=2.0.4,!=2.1.2,!=2.1.6,>=2.0.3 in /workspace/.pip-modules/lib/python3.8/site-packages (from matplotlib==3.3.1->-r /workspace/Mildew-Detection-CL/requirements.txt (line 3)) (3.1.2)\n",
            "Requirement already satisfied: scipy>=1.0 in /workspace/.pip-modules/lib/python3.8/site-packages (from seaborn==0.11.0->-r /workspace/Mildew-Detection-CL/requirements.txt (line 4)) (1.9.3)\n",
            "Requirement already satisfied: retrying>=1.3.3 in /workspace/.pip-modules/lib/python3.8/site-packages (from plotly==4.12.0->-r /workspace/Mildew-Detection-CL/requirements.txt (line 5)) (1.3.4)\n",
            "Requirement already satisfied: six in /workspace/.pip-modules/lib/python3.8/site-packages (from plotly==4.12.0->-r /workspace/Mildew-Detection-CL/requirements.txt (line 5)) (1.15.0)\n",
            "Requirement already satisfied: astor in /workspace/.pip-modules/lib/python3.8/site-packages (from streamlit==0.85.0->-r /workspace/Mildew-Detection-CL/requirements.txt (line 7)) (0.8.1)\n",
            "Requirement already satisfied: attrs in /home/gitpod/.pyenv/versions/3.8.18/lib/python3.8/site-packages (from streamlit==0.85.0->-r /workspace/Mildew-Detection-CL/requirements.txt (line 7)) (23.2.0)\n",
            "Requirement already satisfied: base58 in /workspace/.pip-modules/lib/python3.8/site-packages (from streamlit==0.85.0->-r /workspace/Mildew-Detection-CL/requirements.txt (line 7)) (2.1.1)\n",
            "Requirement already satisfied: blinker in /workspace/.pip-modules/lib/python3.8/site-packages (from streamlit==0.85.0->-r /workspace/Mildew-Detection-CL/requirements.txt (line 7)) (1.8.2)\n",
            "Requirement already satisfied: cachetools>=4.0 in /workspace/.pip-modules/lib/python3.8/site-packages (from streamlit==0.85.0->-r /workspace/Mildew-Detection-CL/requirements.txt (line 7)) (5.4.0)\n",
            "Requirement already satisfied: click<8.0,>=7.0 in /workspace/.pip-modules/lib/python3.8/site-packages (from streamlit==0.85.0->-r /workspace/Mildew-Detection-CL/requirements.txt (line 7)) (7.1.2)\n",
            "Requirement already satisfied: packaging in /home/gitpod/.pyenv/versions/3.8.18/lib/python3.8/site-packages (from streamlit==0.85.0->-r /workspace/Mildew-Detection-CL/requirements.txt (line 7)) (24.1)\n",
            "Requirement already satisfied: pyarrow in /workspace/.pip-modules/lib/python3.8/site-packages (from streamlit==0.85.0->-r /workspace/Mildew-Detection-CL/requirements.txt (line 7)) (17.0.0)\n",
            "Requirement already satisfied: pydeck>=0.1.dev5 in /workspace/.pip-modules/lib/python3.8/site-packages (from streamlit==0.85.0->-r /workspace/Mildew-Detection-CL/requirements.txt (line 7)) (0.9.1)\n",
            "Requirement already satisfied: requests in /home/gitpod/.pyenv/versions/3.8.18/lib/python3.8/site-packages (from streamlit==0.85.0->-r /workspace/Mildew-Detection-CL/requirements.txt (line 7)) (2.32.3)\n",
            "Requirement already satisfied: toml in /workspace/.pip-modules/lib/python3.8/site-packages (from streamlit==0.85.0->-r /workspace/Mildew-Detection-CL/requirements.txt (line 7)) (0.10.2)\n",
            "Requirement already satisfied: tornado>=5.0 in /home/gitpod/.pyenv/versions/3.8.18/lib/python3.8/site-packages (from streamlit==0.85.0->-r /workspace/Mildew-Detection-CL/requirements.txt (line 7)) (6.4.1)\n",
            "Requirement already satisfied: tzlocal in /workspace/.pip-modules/lib/python3.8/site-packages (from streamlit==0.85.0->-r /workspace/Mildew-Detection-CL/requirements.txt (line 7)) (5.2)\n",
            "Requirement already satisfied: validators in /workspace/.pip-modules/lib/python3.8/site-packages (from streamlit==0.85.0->-r /workspace/Mildew-Detection-CL/requirements.txt (line 7)) (0.33.0)\n",
            "Requirement already satisfied: gitpython in /workspace/.pip-modules/lib/python3.8/site-packages (from streamlit==0.85.0->-r /workspace/Mildew-Detection-CL/requirements.txt (line 7)) (3.1.43)\n",
            "Requirement already satisfied: watchdog in /workspace/.pip-modules/lib/python3.8/site-packages (from streamlit==0.85.0->-r /workspace/Mildew-Detection-CL/requirements.txt (line 7)) (4.0.1)\n",
            "Requirement already satisfied: joblib>=0.11 in /workspace/.pip-modules/lib/python3.8/site-packages (from scikit-learn==0.24.2->-r /workspace/Mildew-Detection-CL/requirements.txt (line 9)) (1.4.2)\n",
            "Requirement already satisfied: threadpoolctl>=2.0.0 in /workspace/.pip-modules/lib/python3.8/site-packages (from scikit-learn==0.24.2->-r /workspace/Mildew-Detection-CL/requirements.txt (line 9)) (3.5.0)\n",
            "Requirement already satisfied: absl-py~=0.10 in /workspace/.pip-modules/lib/python3.8/site-packages (from tensorflow-cpu==2.6.0->-r /workspace/Mildew-Detection-CL/requirements.txt (line 10)) (0.15.0)\n",
            "Requirement already satisfied: astunparse~=1.6.3 in /workspace/.pip-modules/lib/python3.8/site-packages (from tensorflow-cpu==2.6.0->-r /workspace/Mildew-Detection-CL/requirements.txt (line 10)) (1.6.3)\n",
            "Requirement already satisfied: clang~=5.0 in /workspace/.pip-modules/lib/python3.8/site-packages (from tensorflow-cpu==2.6.0->-r /workspace/Mildew-Detection-CL/requirements.txt (line 10)) (5.0)\n",
            "Requirement already satisfied: flatbuffers~=1.12.0 in /workspace/.pip-modules/lib/python3.8/site-packages (from tensorflow-cpu==2.6.0->-r /workspace/Mildew-Detection-CL/requirements.txt (line 10)) (1.12)\n",
            "Requirement already satisfied: google-pasta~=0.2 in /workspace/.pip-modules/lib/python3.8/site-packages (from tensorflow-cpu==2.6.0->-r /workspace/Mildew-Detection-CL/requirements.txt (line 10)) (0.2.0)\n",
            "Requirement already satisfied: h5py~=3.1.0 in /workspace/.pip-modules/lib/python3.8/site-packages (from tensorflow-cpu==2.6.0->-r /workspace/Mildew-Detection-CL/requirements.txt (line 10)) (3.1.0)\n",
            "Requirement already satisfied: keras-preprocessing~=1.1.2 in /workspace/.pip-modules/lib/python3.8/site-packages (from tensorflow-cpu==2.6.0->-r /workspace/Mildew-Detection-CL/requirements.txt (line 10)) (1.1.2)\n",
            "Requirement already satisfied: opt-einsum~=3.3.0 in /workspace/.pip-modules/lib/python3.8/site-packages (from tensorflow-cpu==2.6.0->-r /workspace/Mildew-Detection-CL/requirements.txt (line 10)) (3.3.0)\n",
            "Requirement already satisfied: termcolor~=1.1.0 in /workspace/.pip-modules/lib/python3.8/site-packages (from tensorflow-cpu==2.6.0->-r /workspace/Mildew-Detection-CL/requirements.txt (line 10)) (1.1.0)\n",
            "Requirement already satisfied: typing-extensions~=3.7.4 in /workspace/.pip-modules/lib/python3.8/site-packages (from tensorflow-cpu==2.6.0->-r /workspace/Mildew-Detection-CL/requirements.txt (line 10)) (3.7.4.3)\n",
            "Requirement already satisfied: wheel~=0.35 in /home/gitpod/.pyenv/versions/3.8.18/lib/python3.8/site-packages (from tensorflow-cpu==2.6.0->-r /workspace/Mildew-Detection-CL/requirements.txt (line 10)) (0.43.0)\n",
            "Requirement already satisfied: wrapt~=1.12.1 in /workspace/.pip-modules/lib/python3.8/site-packages (from tensorflow-cpu==2.6.0->-r /workspace/Mildew-Detection-CL/requirements.txt (line 10)) (1.12.1)\n",
            "Requirement already satisfied: gast==0.4.0 in /workspace/.pip-modules/lib/python3.8/site-packages (from tensorflow-cpu==2.6.0->-r /workspace/Mildew-Detection-CL/requirements.txt (line 10)) (0.4.0)\n",
            "Requirement already satisfied: tensorboard~=2.6 in /workspace/.pip-modules/lib/python3.8/site-packages (from tensorflow-cpu==2.6.0->-r /workspace/Mildew-Detection-CL/requirements.txt (line 10)) (2.14.0)\n",
            "Requirement already satisfied: tensorflow-estimator~=2.6 in /workspace/.pip-modules/lib/python3.8/site-packages (from tensorflow-cpu==2.6.0->-r /workspace/Mildew-Detection-CL/requirements.txt (line 10)) (2.15.0)\n",
            "Requirement already satisfied: grpcio<2.0,>=1.37.0 in /workspace/.pip-modules/lib/python3.8/site-packages (from tensorflow-cpu==2.6.0->-r /workspace/Mildew-Detection-CL/requirements.txt (line 10)) (1.65.4)\n",
            "Requirement already satisfied: entrypoints in /workspace/.pip-modules/lib/python3.8/site-packages (from altair<5->-r /workspace/Mildew-Detection-CL/requirements.txt (line 13)) (0.4)\n",
            "Requirement already satisfied: jinja2 in /home/gitpod/.pyenv/versions/3.8.18/lib/python3.8/site-packages (from altair<5->-r /workspace/Mildew-Detection-CL/requirements.txt (line 13)) (3.1.4)\n",
            "Requirement already satisfied: jsonschema>=3.0 in /home/gitpod/.pyenv/versions/3.8.18/lib/python3.8/site-packages (from altair<5->-r /workspace/Mildew-Detection-CL/requirements.txt (line 13)) (4.23.0)\n",
            "Requirement already satisfied: toolz in /workspace/.pip-modules/lib/python3.8/site-packages (from altair<5->-r /workspace/Mildew-Detection-CL/requirements.txt (line 13)) (0.12.1)\n",
            "Requirement already satisfied: importlib-resources>=1.4.0 in /home/gitpod/.pyenv/versions/3.8.18/lib/python3.8/site-packages (from jsonschema>=3.0->altair<5->-r /workspace/Mildew-Detection-CL/requirements.txt (line 13)) (6.4.0)\n",
            "Requirement already satisfied: jsonschema-specifications>=2023.03.6 in /home/gitpod/.pyenv/versions/3.8.18/lib/python3.8/site-packages (from jsonschema>=3.0->altair<5->-r /workspace/Mildew-Detection-CL/requirements.txt (line 13)) (2023.12.1)\n",
            "Requirement already satisfied: pkgutil-resolve-name>=1.3.10 in /home/gitpod/.pyenv/versions/3.8.18/lib/python3.8/site-packages (from jsonschema>=3.0->altair<5->-r /workspace/Mildew-Detection-CL/requirements.txt (line 13)) (1.3.10)\n",
            "Requirement already satisfied: referencing>=0.28.4 in /home/gitpod/.pyenv/versions/3.8.18/lib/python3.8/site-packages (from jsonschema>=3.0->altair<5->-r /workspace/Mildew-Detection-CL/requirements.txt (line 13)) (0.35.1)\n",
            "Requirement already satisfied: rpds-py>=0.7.1 in /home/gitpod/.pyenv/versions/3.8.18/lib/python3.8/site-packages (from jsonschema>=3.0->altair<5->-r /workspace/Mildew-Detection-CL/requirements.txt (line 13)) (0.19.1)\n",
            "Requirement already satisfied: MarkupSafe>=2.0 in /home/gitpod/.pyenv/versions/3.8.18/lib/python3.8/site-packages (from jinja2->altair<5->-r /workspace/Mildew-Detection-CL/requirements.txt (line 13)) (2.1.5)\n",
            "Requirement already satisfied: google-auth<3,>=1.6.3 in /workspace/.pip-modules/lib/python3.8/site-packages (from tensorboard~=2.6->tensorflow-cpu==2.6.0->-r /workspace/Mildew-Detection-CL/requirements.txt (line 10)) (2.32.0)\n",
            "Requirement already satisfied: google-auth-oauthlib<1.1,>=0.5 in /workspace/.pip-modules/lib/python3.8/site-packages (from tensorboard~=2.6->tensorflow-cpu==2.6.0->-r /workspace/Mildew-Detection-CL/requirements.txt (line 10)) (1.0.0)\n",
            "Requirement already satisfied: markdown>=2.6.8 in /workspace/.pip-modules/lib/python3.8/site-packages (from tensorboard~=2.6->tensorflow-cpu==2.6.0->-r /workspace/Mildew-Detection-CL/requirements.txt (line 10)) (3.6)\n",
            "Requirement already satisfied: setuptools>=41.0.0 in /home/gitpod/.pyenv/versions/3.8.18/lib/python3.8/site-packages (from tensorboard~=2.6->tensorflow-cpu==2.6.0->-r /workspace/Mildew-Detection-CL/requirements.txt (line 10)) (72.1.0)\n",
            "Requirement already satisfied: tensorboard-data-server<0.8.0,>=0.7.0 in /workspace/.pip-modules/lib/python3.8/site-packages (from tensorboard~=2.6->tensorflow-cpu==2.6.0->-r /workspace/Mildew-Detection-CL/requirements.txt (line 10)) (0.7.2)\n",
            "Requirement already satisfied: werkzeug>=1.0.1 in /workspace/.pip-modules/lib/python3.8/site-packages (from tensorboard~=2.6->tensorflow-cpu==2.6.0->-r /workspace/Mildew-Detection-CL/requirements.txt (line 10)) (3.0.3)\n",
            "Requirement already satisfied: charset-normalizer<4,>=2 in /home/gitpod/.pyenv/versions/3.8.18/lib/python3.8/site-packages (from requests->streamlit==0.85.0->-r /workspace/Mildew-Detection-CL/requirements.txt (line 7)) (3.3.2)\n",
            "Requirement already satisfied: idna<4,>=2.5 in /home/gitpod/.pyenv/versions/3.8.18/lib/python3.8/site-packages (from requests->streamlit==0.85.0->-r /workspace/Mildew-Detection-CL/requirements.txt (line 7)) (3.7)\n",
            "Requirement already satisfied: urllib3<3,>=1.21.1 in /home/gitpod/.pyenv/versions/3.8.18/lib/python3.8/site-packages (from requests->streamlit==0.85.0->-r /workspace/Mildew-Detection-CL/requirements.txt (line 7)) (2.2.2)\n",
            "Requirement already satisfied: gitdb<5,>=4.0.1 in /workspace/.pip-modules/lib/python3.8/site-packages (from gitpython->streamlit==0.85.0->-r /workspace/Mildew-Detection-CL/requirements.txt (line 7)) (4.0.11)\n",
            "Requirement already satisfied: backports.zoneinfo in /workspace/.pip-modules/lib/python3.8/site-packages (from tzlocal->streamlit==0.85.0->-r /workspace/Mildew-Detection-CL/requirements.txt (line 7)) (0.2.1)\n",
            "Requirement already satisfied: smmap<6,>=3.0.1 in /workspace/.pip-modules/lib/python3.8/site-packages (from gitdb<5,>=4.0.1->gitpython->streamlit==0.85.0->-r /workspace/Mildew-Detection-CL/requirements.txt (line 7)) (5.0.1)\n",
            "Requirement already satisfied: pyasn1-modules>=0.2.1 in /workspace/.pip-modules/lib/python3.8/site-packages (from google-auth<3,>=1.6.3->tensorboard~=2.6->tensorflow-cpu==2.6.0->-r /workspace/Mildew-Detection-CL/requirements.txt (line 10)) (0.4.0)\n",
            "Requirement already satisfied: rsa<5,>=3.1.4 in /workspace/.pip-modules/lib/python3.8/site-packages (from google-auth<3,>=1.6.3->tensorboard~=2.6->tensorflow-cpu==2.6.0->-r /workspace/Mildew-Detection-CL/requirements.txt (line 10)) (4.9)\n",
            "Requirement already satisfied: requests-oauthlib>=0.7.0 in /workspace/.pip-modules/lib/python3.8/site-packages (from google-auth-oauthlib<1.1,>=0.5->tensorboard~=2.6->tensorflow-cpu==2.6.0->-r /workspace/Mildew-Detection-CL/requirements.txt (line 10)) (2.0.0)\n",
            "Requirement already satisfied: zipp>=3.1.0 in /home/gitpod/.pyenv/versions/3.8.18/lib/python3.8/site-packages (from importlib-resources>=1.4.0->jsonschema>=3.0->altair<5->-r /workspace/Mildew-Detection-CL/requirements.txt (line 13)) (3.19.2)\n",
            "Requirement already satisfied: importlib-metadata>=4.4 in /home/gitpod/.pyenv/versions/3.8.18/lib/python3.8/site-packages (from markdown>=2.6.8->tensorboard~=2.6->tensorflow-cpu==2.6.0->-r /workspace/Mildew-Detection-CL/requirements.txt (line 10)) (8.2.0)\n",
            "Requirement already satisfied: pyasn1<0.7.0,>=0.4.6 in /workspace/.pip-modules/lib/python3.8/site-packages (from pyasn1-modules>=0.2.1->google-auth<3,>=1.6.3->tensorboard~=2.6->tensorflow-cpu==2.6.0->-r /workspace/Mildew-Detection-CL/requirements.txt (line 10)) (0.6.0)\n",
            "Requirement already satisfied: oauthlib>=3.0.0 in /workspace/.pip-modules/lib/python3.8/site-packages (from requests-oauthlib>=0.7.0->google-auth-oauthlib<1.1,>=0.5->tensorboard~=2.6->tensorflow-cpu==2.6.0->-r /workspace/Mildew-Detection-CL/requirements.txt (line 10)) (3.2.2)\n",
            "Note: you may need to restart the kernel to use updated packages.\n"
          ]
        }
      ],
      "source": [
        "%pip install -r /workspace/Mildew-Detection-CL/requirements.txt"
      ]
    },
    {
      "cell_type": "code",
      "execution_count": 2,
      "metadata": {},
      "outputs": [],
      "source": [
        "import os\n",
        "import numpy as np\n",
        "import tensorflow as tf\n",
        "import joblib"
      ]
    },
    {
      "cell_type": "markdown",
      "metadata": {
        "id": "cqP-UeN-z3i2"
      },
      "source": [
        "## 2.0 - Change working directory"
      ]
    },
    {
      "cell_type": "markdown",
      "metadata": {},
      "source": [
        "---"
      ]
    },
    {
      "cell_type": "code",
      "execution_count": 3,
      "metadata": {
        "id": "wZfF_j-Bz3i4",
        "outputId": "66943449-1436-4c3d-85c7-b85f9f78349b"
      },
      "outputs": [
        {
          "data": {
            "text/plain": [
              "'/workspace/Mildew-Detection-CL/jupyter_notebooks'"
            ]
          },
          "execution_count": 3,
          "metadata": {},
          "output_type": "execute_result"
        }
      ],
      "source": [
        "current_dir = os.getcwd()\n",
        "current_dir"
      ]
    },
    {
      "cell_type": "code",
      "execution_count": 4,
      "metadata": {
        "id": "TwHsQRWjz3i9",
        "outputId": "86849db3-cd2f-4cc5-ebb8-2d0caafa1a2c"
      },
      "outputs": [
        {
          "name": "stdout",
          "output_type": "stream",
          "text": [
            "You set a new current directory\n"
          ]
        }
      ],
      "source": [
        "os.chdir('/workspace/Mildew-Detection-CL')\n",
        "print(\"You set a new current directory\")"
      ]
    },
    {
      "cell_type": "code",
      "execution_count": 5,
      "metadata": {
        "id": "vz3S-_kjz3jA",
        "outputId": "00b79ae4-75d0-4a96-d193-ac9ef9847ea2"
      },
      "outputs": [
        {
          "data": {
            "text/plain": [
              "'/workspace/Mildew-Detection-CL'"
            ]
          },
          "execution_count": 5,
          "metadata": {},
          "output_type": "execute_result"
        }
      ],
      "source": [
        "current_dir = os.getcwd()\n",
        "current_dir"
      ]
    },
    {
      "cell_type": "markdown",
      "metadata": {
        "id": "-mavJ8DibrcQ"
      },
      "source": [
        "## 3.0 - Install Kaggle & Download the Dataset "
      ]
    },
    {
      "cell_type": "markdown",
      "metadata": {},
      "source": [
        "---"
      ]
    },
    {
      "cell_type": "code",
      "execution_count": 6,
      "metadata": {},
      "outputs": [
        {
          "name": "stdout",
          "output_type": "stream",
          "text": [
            "Requirement already satisfied: kaggle==1.5.12 in /workspace/.pip-modules/lib/python3.8/site-packages (1.5.12)\n",
            "Requirement already satisfied: six>=1.10 in /workspace/.pip-modules/lib/python3.8/site-packages (from kaggle==1.5.12) (1.15.0)\n",
            "Requirement already satisfied: certifi in /home/gitpod/.pyenv/versions/3.8.18/lib/python3.8/site-packages (from kaggle==1.5.12) (2024.7.4)\n",
            "Requirement already satisfied: python-dateutil in /home/gitpod/.pyenv/versions/3.8.18/lib/python3.8/site-packages (from kaggle==1.5.12) (2.9.0.post0)\n",
            "Requirement already satisfied: requests in /home/gitpod/.pyenv/versions/3.8.18/lib/python3.8/site-packages (from kaggle==1.5.12) (2.32.3)\n",
            "Requirement already satisfied: tqdm in /workspace/.pip-modules/lib/python3.8/site-packages (from kaggle==1.5.12) (4.66.5)\n",
            "Requirement already satisfied: python-slugify in /workspace/.pip-modules/lib/python3.8/site-packages (from kaggle==1.5.12) (8.0.4)\n",
            "Requirement already satisfied: urllib3 in /home/gitpod/.pyenv/versions/3.8.18/lib/python3.8/site-packages (from kaggle==1.5.12) (2.2.2)\n",
            "Requirement already satisfied: text-unidecode>=1.3 in /workspace/.pip-modules/lib/python3.8/site-packages (from python-slugify->kaggle==1.5.12) (1.3)\n",
            "Requirement already satisfied: charset-normalizer<4,>=2 in /home/gitpod/.pyenv/versions/3.8.18/lib/python3.8/site-packages (from requests->kaggle==1.5.12) (3.3.2)\n",
            "Requirement already satisfied: idna<4,>=2.5 in /home/gitpod/.pyenv/versions/3.8.18/lib/python3.8/site-packages (from requests->kaggle==1.5.12) (3.7)\n",
            "Note: you may need to restart the kernel to use updated packages.\n"
          ]
        }
      ],
      "source": [
        "%pip install kaggle==1.5.12"
      ]
    },
    {
      "cell_type": "markdown",
      "metadata": {},
      "source": [
        "Run the cell below to **change the Kaggle configuration directory to the current working directory and set permissions for the Kaggle authentication JSON**."
      ]
    },
    {
      "cell_type": "code",
      "execution_count": 7,
      "metadata": {},
      "outputs": [],
      "source": [
        "os.environ['KAGGLE_CONFIG_DIR'] = os.getcwd()\n",
        "! chmod 600 kaggle.json"
      ]
    },
    {
      "cell_type": "markdown",
      "metadata": {},
      "source": [
        "Set the Kaggle Dataset and Download it"
      ]
    },
    {
      "cell_type": "code",
      "execution_count": 8,
      "metadata": {},
      "outputs": [
        {
          "name": "stdout",
          "output_type": "stream",
          "text": [
            "Downloading cherry-leaves.zip to inputs/cherry_leaves_dataset\n",
            "100%|█████████████████████████████████████▉| 55.0M/55.0M [00:02<00:00, 37.5MB/s]\n",
            "100%|██████████████████████████████████████| 55.0M/55.0M [00:02<00:00, 26.3MB/s]\n"
          ]
        }
      ],
      "source": [
        "KaggleDatasetPath = \"codeinstitute/cherry-leaves\"\n",
        "DestinationFolder = \"inputs/cherry_leaves_dataset\"   \n",
        "! kaggle datasets download -d {KaggleDatasetPath} -p {DestinationFolder}"
      ]
    },
    {
      "cell_type": "markdown",
      "metadata": {},
      "source": [
        "Unzip the downloaded file, and delete the zip file."
      ]
    },
    {
      "cell_type": "code",
      "execution_count": 9,
      "metadata": {},
      "outputs": [],
      "source": [
        "import zipfile\n",
        "with zipfile.ZipFile(DestinationFolder + '/cherry-leaves.zip', 'r') as zip_ref:\n",
        "    zip_ref.extractall(DestinationFolder)\n",
        "\n",
        "os.remove(DestinationFolder + '/cherry-leaves.zip')"
      ]
    },
    {
      "cell_type": "markdown",
      "metadata": {},
      "source": [
        "## 4.0 - Data Cleaning and Preparation"
      ]
    },
    {
      "cell_type": "markdown",
      "metadata": {},
      "source": [
        "---"
      ]
    },
    {
      "cell_type": "markdown",
      "metadata": {},
      "source": [
        "### 4.1 - Check and Remove non-image files"
      ]
    },
    {
      "cell_type": "code",
      "execution_count": 10,
      "metadata": {},
      "outputs": [],
      "source": [
        "def remove_non_image_files(directory):\n",
        "    \n",
        "    image_extensions = ('.png', '.jpg', '.jpeg')\n",
        "    \n",
        "    for folder in os.listdir(directory):\n",
        "        folder_path = os.path.join(directory, folder)\n",
        "        \n",
        "        image_count = 0\n",
        "        non_image_count = 0\n",
        "        \n",
        "        for file_name in os.listdir(folder_path):\n",
        "            file_path = os.path.join(folder_path, file_name)\n",
        "            \n",
        "            if not file_name.lower().endswith(image_extensions):\n",
        "                os.remove(file_path)\n",
        "                non_image_count += 1\n",
        "            else:\n",
        "                image_count += 1\n",
        "        \n",
        "        print(f\"Folder: {folder} - Image files: {image_count}\")\n",
        "        print(f\"Folder: {folder} - Non-image files removed: {non_image_count}\")\n"
      ]
    },
    {
      "cell_type": "code",
      "execution_count": 11,
      "metadata": {},
      "outputs": [
        {
          "name": "stdout",
          "output_type": "stream",
          "text": [
            "Folder: healthy - Image files: 2104\n",
            "Folder: healthy - Non-image files removed: 0\n",
            "Folder: powdery_mildew - Image files: 2104\n",
            "Folder: powdery_mildew - Non-image files removed: 0\n"
          ]
        }
      ],
      "source": [
        "remove_non_image_files('inputs/cherry_leaves_dataset/cherry-leaves')"
      ]
    },
    {
      "cell_type": "markdown",
      "metadata": {},
      "source": [
        "### 4.2 - Average Image Shape"
      ]
    },
    {
      "cell_type": "markdown",
      "metadata": {},
      "source": [
        "Calculate the average image size from the dataset."
      ]
    },
    {
      "cell_type": "code",
      "execution_count": 12,
      "metadata": {},
      "outputs": [
        {
          "name": "stderr",
          "output_type": "stream",
          "text": [
            "2024-08-17 21:43:10.872042: I tensorflow/core/platform/cpu_feature_guard.cc:142] This TensorFlow binary is optimized with oneAPI Deep Neural Network Library (oneDNN) to use the following CPU instructions in performance-critical operations:  AVX2 AVX512F FMA\n",
            "To enable them in other operations, rebuild TensorFlow with the appropriate compiler flags.\n"
          ]
        },
        {
          "name": "stdout",
          "output_type": "stream",
          "text": [
            "The average image shape is the following: The width average is {size2_mean} pixels and the height average is {size1_mean} pixels\n"
          ]
        },
        {
          "data": {
            "text/plain": [
              "['/workspace/Mildew-Detection-CL/outputs//image_shape.pkl']"
            ]
          },
          "execution_count": 12,
          "metadata": {},
          "output_type": "execute_result"
        }
      ],
      "source": [
        "data_dir = 'inputs/cherry_leaves_dataset/cherry-leaves'\n",
        "\n",
        "size1 = [] \n",
        "size2 = []\n",
        "\n",
        "dataset_folders = ['healthy', 'powdery_mildew']\n",
        "\n",
        "def read_image_tf(img_path):\n",
        "    img = tf.io.read_file(img_path)\n",
        "    img = tf.image.decode_image(img)\n",
        "    return img\n",
        "\n",
        "\n",
        "for label in dataset_folders:\n",
        "    label_dir = os.path.join(data_dir, label)\n",
        "    \n",
        "    if os.path.isdir(label_dir):\n",
        "        for image_filename in os.listdir(label_dir):\n",
        "            img_path = os.path.join(label_dir, image_filename)\n",
        "            img = read_image_tf(img_path)\n",
        "            s1, s2 = img.shape[:2]\n",
        "            size1.append(s1)\n",
        "            size2.append(s2)\n",
        "\n",
        "size1_mean = int(np.mean(size1))\n",
        "size2_mean = int(np.mean(size2))\n",
        "\n",
        "print(\"The average image shape is the following: The width average is {size2_mean} pixels and the height average is {size1_mean} pixels\")\n",
        "\n",
        "file_path = \"/workspace/Mildew-Detection-CL/outputs/\" \n",
        "\n",
        "os.makedirs(file_path, exist_ok=True)\n",
        "\n",
        "image_shape = (size1_mean, size2_mean, 3)\n",
        "joblib.dump(value=image_shape, filename=f\"{file_path}/image_shape.pkl\")"
      ]
    },
    {
      "cell_type": "markdown",
      "metadata": {},
      "source": [
        "### 4.3 - Split data into sets of 'Train', 'Validation, 'Test'"
      ]
    },
    {
      "cell_type": "code",
      "execution_count": 13,
      "metadata": {},
      "outputs": [],
      "source": [
        "import os\n",
        "import shutil\n",
        "import random\n",
        "\n",
        "def split_dataset(data_directory, train_ratio, validation_ratio, test_ratio):\n",
        "\n",
        "    if train_ratio + validation_ratio + test_ratio != 1.0:\n",
        "        print(\"Error: train_ratio + validation_ratio + test_ratio should total 1.0\")\n",
        "        return\n",
        "\n",
        "    labels = [label for label in os.listdir(data_directory) if os.path.isdir(os.path.join(data_directory, label))]\n",
        "    \n",
        "    for subset in ['train', 'validation', 'test']:\n",
        "        for label in labels:\n",
        "            os.makedirs(os.path.join(data_directory, subset, label), exist_ok=True)\n",
        "\n",
        "    for label in labels:\n",
        "        label_path = os.path.join(data_directory, label)\n",
        "        all_files = os.listdir(label_path)\n",
        "        random.shuffle(all_files)\n",
        "\n",
        "        num_train_files = int(len(all_files) * train_ratio)\n",
        "        num_validation_files = int(len(all_files) * validation_ratio)\n",
        "\n",
        "        for index, file_name in enumerate(all_files):\n",
        "            src_path = os.path.join(label_path, file_name)\n",
        "            if index < num_train_files:\n",
        "                dest_path = os.path.join(data_directory, 'train', label, file_name)\n",
        "            elif index < num_train_files + num_validation_files:\n",
        "                dest_path = os.path.join(data_directory, 'validation', label, file_name)\n",
        "            else:\n",
        "                dest_path = os.path.join(data_directory, 'test', label, file_name)\n",
        "            \n",
        "            shutil.move(src_path, dest_path)\n",
        "\n",
        "        if not os.listdir(label_path):\n",
        "            os.rmdir(label_path)\n",
        "\n",
        "    print(\"Dataset has been successfully divided into training, validation, and test sets.\")\n"
      ]
    },
    {
      "cell_type": "markdown",
      "metadata": {},
      "source": [
        "Conventionally,\n",
        "\n",
        "* The training set is divided into a 0.70 ratio of data.\n",
        "* The validation set is divided into a 0.10 ratio of data.\n",
        "* The test set is divided into a 0.20 ratio of data."
      ]
    },
    {
      "cell_type": "code",
      "execution_count": 14,
      "metadata": {},
      "outputs": [
        {
          "name": "stdout",
          "output_type": "stream",
          "text": [
            "Dataset has been successfully divided into training, validation, and test sets.\n"
          ]
        }
      ],
      "source": [
        "split_dataset(data_directory=\"inputs/cherry_leaves_dataset/cherry-leaves\",\n",
        "              train_ratio=0.7,\n",
        "              validation_ratio=0.1,\n",
        "              test_ratio=0.2)"
      ]
    },
    {
      "cell_type": "markdown",
      "metadata": {},
      "source": [
        "### 4.4 - Resize Dataset Images"
      ]
    },
    {
      "cell_type": "markdown",
      "metadata": {},
      "source": [
        "The final step in organizing the data involves resizing all images in the dataset to 100x100 pixels, ensuring scalability and facilitating future development."
      ]
    },
    {
      "cell_type": "code",
      "execution_count": 15,
      "metadata": {},
      "outputs": [],
      "source": [
        "def image_resize(data_dir, new_size=(100, 100)):\n",
        "    total_files_processed = 0\n",
        "\n",
        "    for root, dirs, files in os.walk(data_dir):\n",
        "        for file in files:\n",
        "            if file.lower().endswith(('.png', '.jpg', '.jpeg')):\n",
        "                file_path = os.path.join(root, file)\n",
        "                \n",
        "                img = tf.io.read_file(file_path)\n",
        "                img = tf.image.decode_image(img)\n",
        "\n",
        "                img_resized = tf.image.resize(img, new_size)\n",
        "\n",
        "                img_resized = tf.cast(img_resized, tf.uint8)\n",
        "\n",
        "                img_resized_np = img_resized.numpy()\n",
        "                tf.keras.preprocessing.image.save_img(file_path, img_resized_np)\n",
        "\n",
        "                total_files_processed += 1\n",
        "\n",
        "    print(f\"Processed {total_files_processed} files in {data_dir}\")\n",
        "    print(f\"All images resized to {new_size[0]}px x {new_size[1]}px\")"
      ]
    },
    {
      "cell_type": "markdown",
      "metadata": {},
      "source": [
        "As the final step, ensure that every image within each subset of the dataset is resized to the desired dimensions, optimizing them for consistency and future processing tasks."
      ]
    },
    {
      "cell_type": "code",
      "execution_count": 16,
      "metadata": {},
      "outputs": [
        {
          "name": "stdout",
          "output_type": "stream",
          "text": [
            "Processing Train dataset...\n",
            "Processed 2944 files in inputs/cherry_leaves_dataset/cherry-leaves/train\n",
            "All images resized to 100px x 100px\n",
            "Processing Validation dataset...\n",
            "Processed 420 files in inputs/cherry_leaves_dataset/cherry-leaves/validation\n",
            "All images resized to 100px x 100px\n",
            "Processing Test dataset...\n",
            "Processed 844 files in inputs/cherry_leaves_dataset/cherry-leaves/test\n",
            "All images resized to 100px x 100px\n"
          ]
        }
      ],
      "source": [
        "data_dir = \"inputs/cherry_leaves_dataset/cherry-leaves\"\n",
        "\n",
        "print(\"Processing Train dataset...\")\n",
        "image_resize(os.path.join(data_dir, 'train'))\n",
        "\n",
        "print(\"Processing Validation dataset...\")\n",
        "image_resize(os.path.join(data_dir, 'validation'))\n",
        "\n",
        "print(\"Processing Test dataset...\")\n",
        "image_resize(os.path.join(data_dir, 'test'))"
      ]
    },
    {
      "cell_type": "markdown",
      "metadata": {
        "id": "ltNetd085qHf"
      },
      "source": [
        "## 5.0 - Conclusion"
      ]
    },
    {
      "cell_type": "markdown",
      "metadata": {},
      "source": [
        "---"
      ]
    },
    {
      "cell_type": "markdown",
      "metadata": {},
      "source": [
        "Within this notebook, the following has been achieved:\n",
        "\n",
        "* Downloaded and prepared the Cherry Leaf dataset from Kaggle.\n",
        "\n",
        "* Cleaned the dataset by removing non-image files.\n",
        "\n",
        "* Calculated the average image dimensions and saved this information for future use.\n",
        "\n",
        "* Split the dataset into training, validation, and test subsets with specified ratios.\n",
        "\n",
        "* Resized all images to 100x100 pixels to ensure consistency and support future processing."
      ]
    },
    {
      "cell_type": "markdown",
      "metadata": {},
      "source": []
    }
  ],
  "metadata": {
    "accelerator": "GPU",
    "colab": {
      "name": "Data Practitioner Jupyter Notebook.ipynb",
      "provenance": [],
      "toc_visible": true
    },
    "interpreter": {
      "hash": "8b8334dab9339717f727a1deaf837b322d7a41c20d15cc86be99a8e69ceec8ce"
    },
    "kernelspec": {
      "display_name": "Python 3.8.12 64-bit ('3.8.12': pyenv)",
      "name": "python3"
    },
    "language_info": {
      "codemirror_mode": {
        "name": "ipython",
        "version": 3
      },
      "file_extension": ".py",
      "mimetype": "text/x-python",
      "name": "python",
      "nbconvert_exporter": "python",
      "pygments_lexer": "ipython3",
      "version": "3.8.18"
    },
    "orig_nbformat": 2
  },
  "nbformat": 4,
  "nbformat_minor": 2
}
